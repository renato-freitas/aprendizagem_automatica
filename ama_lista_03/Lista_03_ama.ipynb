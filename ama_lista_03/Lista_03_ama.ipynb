{
 "cells": [
  {
   "attachments": {},
   "cell_type": "markdown",
   "metadata": {},
   "source": [
    "## Lista 3 - KNN e Árvores de decisão\n",
    "Professor César Lincoln C. Mattos, \n",
    "Aprendizagem de Máquina - 2023.1,\n",
    "\n",
    "José Renato S. Freitas"
   ]
  },
  {
   "cell_type": "code",
   "execution_count": 141,
   "metadata": {},
   "outputs": [],
   "source": [
    "import numpy as np\n",
    "from numpy import array\n",
    "import pandas as pd\n",
    "import math\n",
    "%matplotlib inline\n",
    "import matplotlib.pyplot as plt\n",
    "from sklearn.model_selection import KFold, cross_val_score, train_test_split\n",
    "from sklearn.preprocessing import MinMaxScaler, OneHotEncoder\n",
    "from sklearn.metrics import accuracy_score, recall_score, precision_score, f1_score\n",
    "from scipy.stats import multivariate_normal\n",
    "from scipy.spatial import distance\n",
    "from sklearn import tree\n",
    "import warnings\n",
    "warnings.filterwarnings(\"ignore\")"
   ]
  },
  {
   "cell_type": "code",
   "execution_count": 142,
   "metadata": {},
   "outputs": [],
   "source": [
    "escalar_minmax = MinMaxScaler()\n",
    "K = 10"
   ]
  },
  {
   "attachments": {},
   "cell_type": "markdown",
   "metadata": {},
   "source": [
    "## Questão 1"
   ]
  },
  {
   "cell_type": "code",
   "execution_count": 143,
   "metadata": {},
   "outputs": [
    {
     "name": "stdout",
     "output_type": "stream",
     "text": [
      "x: (213, 21), y: (213,)\n"
     ]
    }
   ],
   "source": [
    "dataset = np.genfromtxt(\"./kc2.csv\", delimiter=',', skip_header=1)\n",
    "X = dataset[:, :-1]\n",
    "y = dataset[:, -1]\n",
    "print(f'x: {X.shape}, y: {y.shape}')"
   ]
  },
  {
   "attachments": {},
   "cell_type": "markdown",
   "metadata": {},
   "source": [
    "### KNN"
   ]
  },
  {
   "cell_type": "code",
   "execution_count": 144,
   "metadata": {},
   "outputs": [],
   "source": [
    "# funções Euclidianas\n",
    "def obtem_distancia_euclidiana(X, x_teste):\n",
    "    \"Retorna um vetor de distâncias\"\n",
    "    diferenca_ao_quadrado = (X - x_teste) ** 2 \n",
    "    distancia = np.sum(diferenca_ao_quadrado, axis=1) ** .5 \n",
    "    return distancia\n",
    "\n",
    "def obtem_k_vizinhos_mais_proximos(X, x_teste, k):\n",
    "    \"Retorna k-vizinhos ordenados pela menor distância\"\n",
    "    distancias = obtem_distancia_euclidiana(X, x_teste)\n",
    "    indices_ordenados = np.argsort(distancias)\n",
    "    qtde_vizinhos = k + 1\n",
    "    return indices_ordenados[1:qtde_vizinhos]\n",
    "\n",
    "def classificacao_knn_euclidiana(X, y, x_teste, k):\n",
    "    indices_ordenados = obtem_k_vizinhos_mais_proximos(X, x_teste, k)\n",
    "    y_ordenado = y[indices_ordenados]\n",
    "    conta_classes = np.unique(y_ordenado, return_counts=True)\n",
    "    indice_maximo = np.argmax(conta_classes[1])\n",
    "    predicao = conta_classes[0][indice_maximo]\n",
    "    return predicao\n",
    "\n",
    "# funções Mahalanobis\n",
    "def obtem_distancia_mahalanobis(xi, x, cov):\n",
    "  distancias = []\n",
    "  inversa_matriz_covariancia = np.linalg.inv(cov)\n",
    "  x_menos_xi = x - xi\n",
    "  distancias = (x_menos_xi.T @ inversa_matriz_covariancia @ x_menos_xi)**.5\n",
    "  return distancias\n",
    "\n",
    "def obtem_vizinhos_mais_proximos_maha(X, x_teste, k):\n",
    "    cov = np.cov(X.T)\n",
    "    dist = [obtem_distancia_mahalanobis(xi, x_teste, cov) for xi in X]\n",
    "    indices_ordenacao = np.argsort(dist)\n",
    "    qtde_vizinhos = k + 1\n",
    "    k_vizinhos = indices_ordenacao[1:qtde_vizinhos]\n",
    "    return k_vizinhos\n",
    "\n",
    "def classificacao_knn_mahalanobis(X, y, x_teste, k):\n",
    "    indices_ordenacao = obtem_vizinhos_mais_proximos_maha(X, x_teste, k)\n",
    "    y_ordenado = y[indices_ordenacao]\n",
    "    conta_classes = np.unique(y_ordenado, return_counts=True)\n",
    "    indice_maximo = np.argmax(conta_classes[1])\n",
    "    predicao = conta_classes[0][indice_maximo]\n",
    "    return predicao"
   ]
  },
  {
   "cell_type": "code",
   "execution_count": 6,
   "metadata": {},
   "outputs": [
    {
     "name": "stdout",
     "output_type": "stream",
     "text": [
      "[5.560858000395308, 4.683789955626929, 5.439695676364172, 4.069495307896643, 4.29477029026332, 5.879492662279377, 5.277351182869694, 8.61145809074628, 6.959162355025932, 4.739327175536375, 5.840264134867544, 4.8154991448041775, 5.566702365441974, 6.174562305878986, 4.20087325853581, 5.840264134867544, 5.840264134867544, 4.79297626666026, 4.124672681085407, 6.376179283628339, 4.946950799229718, 5.879492662279377, 5.060917542324835, 5.840264134867544, 4.246700908246319, 1.616559571319766, 5.491592773420702, 6.31085701025741, 5.840264134867544, 5.192000513242237, 5.017840105575986, 4.753858505809629, 0.8202532590259357, 5.192000513242237, 5.840264134867544, 6.93972959393879, 5.078807863197937, 5.879492662279377, 5.840264134867544, 12.033960322469563, 4.9790701787109235, 8.812857966163698, 5.840264134867544, 3.50495562869802, 5.61922754712311, 8.282663292821507, 5.3474804612823705, 5.840264134867544, 5.840264134867544, 5.500841089691451, 6.4534365159139355, 5.153275713403996, 0.8202532590259357, 4.4983865448459825, 6.127559651041172, 5.192000513242237, 6.112964439835651, 4.847529571322616, 4.9763880230676465, 5.840264134867544, 4.796286252561926, 4.971159900589363, 5.840264134867544, 9.267074660457192, 5.879492662279377, 5.164091278844781, 4.422196712642006, 5.411000869798142, 5.4415226655593845, 6.048468330798452, 4.884684533960353, 5.185630185512697, 6.6031751573695185, 5.428766053918456, 7.499873182250085, 7.958263165771726, 3.890154312383448, 5.02809092103157, 6.983853294549071, 5.831849228198902, 5.192000513242237, 5.909334135761458, 5.063233195829624, 4.439008710851761, 4.568448489939584, 4.248587698447697, 6.2633984165297845, 5.100843755946079, 5.394651280245969, 5.879492662279377, 0.8047632872287165, 6.294367902827374, 6.418514019244051, 0.8202532590259357, 8.790740589350165, 5.683544080940875, 6.388623226516659, 5.840264134867544, 5.879492662279377, 3.9638913797715465, 5.192000513242237, 4.246700908246319, 5.840264134867544, 12.475485504201767, 5.0523323269673215, 9.43873918406117, 15.396956450525323, 15.254936648674482, 8.036744245245812, 8.017355333431556, 7.09745853975705, 7.266391336178805, 9.405259421962601, 7.940660421078161, 7.020724846548823, 8.031986324830372, 15.390937263363623, 6.066802780924438, 6.6481579573644085, 13.295194256038435, 7.28100003644414, 7.030215614344542, 7.815857540171383, 9.875477330535182, 5.7706707472627174, 6.509778919899716, 7.368151645070928, 11.508184637141307, 7.640749704063284, 7.815818297358084, 5.560193584266721, 6.370027841384299, 6.106085724915009, 5.464371218846907, 9.062007723042637, 7.807789857962281, 6.877540691229638, 6.529292652306367, 6.697341629677259, 7.38614443932406, 6.622010601599425, 5.577557926453905, 13.038695428133888, 6.265829704379612, 6.0324413171737135, 7.228174733193489, 9.29704311307892, 9.267828241869202, 8.302268344677076, 6.359514322915648, 6.927262851785873, 7.672370629571174, 6.942749569755263, 14.481872703705857, 5.681716290524139, 5.585063961804098, 6.301941790753282, 7.7173498739259365, 6.114756557884141, 7.451226167472043, 5.967336786173664, 6.173406882811336, 5.857514433241788, 6.472445135638898, 5.78026479961665, 6.688628996953772, 7.769313364850912, 6.637368328176619, 5.4966079074152026, 5.526763539705649, 5.623947942078001, 5.546923227771489, 6.55134507987116, 9.71228008438429, 5.909974997424636, 11.94926634638641, 5.989349973310259, 5.426775784132883, 8.476170876016807, 9.67111452602581, 7.555210438927959, 8.546087527651293, 6.481357773726981, 7.387890980784818, 7.4181361895453275, 5.449435604540083, 5.540767294519523, 5.815208392309058, 4.733111941582122, 5.075892929412185, 5.7147771837451025, 6.810935580103353, 6.565105536537882, 6.166637719503465, 5.275097385743328, 4.907310579200442, 5.690628743878967, 5.1377099910190624, 6.128471103984386, 5.007847320968973, 6.965933662816161, 5.056406830096889, 6.010299200374374, 4.248587698447697, 4.246700908246319, 4.246700908246319, 4.779453822103719, 5.232558463017758, 5.03133865554563, 5.840264134867544, 5.840264134867544, 5.879492662279377, 0.8202532590259357]\n",
      "[5.560858000395308, 4.683789955626929, 5.439695676364172, 4.069495307896643, 4.29477029026332, 5.879492662279377, 5.277351182869694, 8.61145809074628, 6.959162355025932, 4.739327175536375, 5.840264134867544, 4.8154991448041775, 5.566702365441974, 6.174562305878986, 4.20087325853581, 5.840264134867544, 5.840264134867544, 4.79297626666026, 4.124672681085407, 6.376179283628339, 4.946950799229718, 5.879492662279377, 5.060917542324835, 5.840264134867544, 4.246700908246319, 1.616559571319766, 5.491592773420702, 6.31085701025741, 5.840264134867544, 5.192000513242237, 5.017840105575986, 4.753858505809629, 0.8202532590259357, 5.192000513242237, 5.840264134867544, 6.93972959393879, 5.078807863197937, 5.879492662279377, 5.840264134867544, 12.033960322469563, 4.9790701787109235, 8.812857966163698, 5.840264134867544, 3.50495562869802, 5.61922754712311, 8.282663292821507, 5.3474804612823705, 5.840264134867544, 5.840264134867544, 5.500841089691451, 6.4534365159139355, 5.153275713403996, 0.8202532590259357, 4.4983865448459825, 6.127559651041172, 5.192000513242237, 6.112964439835651, 4.847529571322616, 4.9763880230676465, 5.840264134867544, 4.796286252561926, 4.971159900589363, 5.840264134867544, 9.267074660457192, 5.879492662279377, 5.164091278844781, 4.422196712642006, 5.411000869798142, 5.4415226655593845, 6.048468330798452, 4.884684533960353, 5.185630185512697, 6.6031751573695185, 5.428766053918456, 7.499873182250085, 7.958263165771726, 3.890154312383448, 5.02809092103157, 6.983853294549071, 5.831849228198902, 5.192000513242237, 5.909334135761458, 5.063233195829624, 4.439008710851761, 4.568448489939584, 4.248587698447697, 6.2633984165297845, 5.100843755946079, 5.394651280245969, 5.879492662279377, 0.8047632872287165, 6.294367902827374, 6.418514019244051, 0.8202532590259357, 8.790740589350165, 5.683544080940875, 6.388623226516659, 5.840264134867544, 5.879492662279377, 3.9638913797715465, 5.192000513242237, 4.246700908246319, 5.840264134867544, 12.475485504201767, 5.0523323269673215, 9.43873918406117, 15.396956450525323, 15.254936648674482, 8.036744245245812, 8.017355333431556, 7.09745853975705, 7.266391336178805, 9.405259421962601, 7.940660421078161, 7.020724846548823, 8.031986324830372, 15.390937263363623, 6.066802780924438, 6.6481579573644085, 13.295194256038435, 7.28100003644414, 7.030215614344542, 7.815857540171383, 9.875477330535182, 5.7706707472627174, 6.509778919899716, 7.368151645070928, 11.508184637141307, 7.640749704063284, 7.815818297358084, 5.560193584266721, 6.370027841384299, 6.106085724915009, 5.464371218846907, 9.062007723042637, 7.807789857962281, 6.877540691229638, 6.529292652306367, 6.697341629677259, 7.3861444393240605, 6.622010601599425, 5.577557926453905, 13.038695428133888, 6.265829704379612, 6.0324413171737135, 7.228174733193489, 9.29704311307892, 9.267828241869202, 8.302268344677076, 6.359514322915648, 6.927262851785873, 7.672370629571174, 6.942749569755263, 14.481872703705857, 5.681716290524139, 5.585063961804098, 6.301941790753282, 7.7173498739259365, 6.114756557884141, 7.451226167472043, 5.967336786173664, 6.173406882811336, 5.857514433241788, 6.472445135638898, 5.78026479961665, 6.688628996953772, 7.769313364850912, 6.637368328176619, 5.4966079074152026, 5.526763539705649, 5.623947942078001, 5.546923227771489, 6.55134507987116, 9.71228008438429, 5.909974997424636, 11.94926634638641, 5.989349973310259, 5.426775784132883, 8.476170876016807, 9.67111452602581, 7.555210438927959, 8.546087527651293, 6.481357773726981, 7.387890980784818, 7.4181361895453275, 5.449435604540083, 5.540767294519523, 5.815208392309058, 4.733111941582122, 5.075892929412185, 5.7147771837451025, 6.810935580103353, 6.565105536537882, 6.166637719503465, 5.275097385743328, 4.907310579200442, 5.690628743878967, 5.1377099910190624, 6.128471103984386, 5.007847320968973, 6.965933662816161, 5.056406830096889, 6.010299200374374, 4.248587698447697, 4.246700908246319, 4.246700908246319, 4.779453822103719, 5.232558463017758, 5.03133865554563, 5.840264134867544, 5.840264134867544, 5.879492662279377, 0.8202532590259357]\n"
     ]
    },
    {
     "data": {
      "image/png": "[encoded data removed]",
      "text/plain": [
       "<Figure size 432x288 with 1 Axes>"
      ]
     },
     "metadata": {
      "needs_background": "light"
     },
     "output_type": "display_data"
    }
   ],
   "source": [
    "import numpy as np\n",
    "from scipy.spatial.distance import mahalanobis\n",
    "\n",
    "__X = escalar_minmax.fit_transform(X)\n",
    "ponto_novo = np.random.rand(1, __X.shape[1])\n",
    "ponto_novo = escalar_minmax.fit_transform(ponto_novo)\n",
    "matriz_covariancia = np.cov(__X.T)\n",
    "\n",
    "# comparando a função obtem_distancia_mahalanobis() com a mahalanobis() da lib scipy\n",
    "mahalanobis_dist = [mahalanobis(x, ponto_novo[0], np.linalg.inv(matriz_covariancia)) for x in __X]\n",
    "print(mahalanobis_dist)\n",
    "\n",
    "my_mahalanobis_dist = [obtem_distancia_mahalanobis(xi, ponto_novo[0], matriz_covariancia) for xi in __X]\n",
    "print(my_mahalanobis_dist)\n",
    "\n",
    "plt.scatter(__X[:, 0], __X[:, 1], c=y)\n",
    "plt.scatter(ponto_novo[0][0], ponto_novo[0][0])\n",
    "plt.grid()"
   ]
  },
  {
   "attachments": {},
   "cell_type": "markdown",
   "metadata": {},
   "source": [
    "## Árvore de Decisão"
   ]
  },
  {
   "cell_type": "code",
   "execution_count": 145,
   "metadata": {},
   "outputs": [],
   "source": [
    "# funções\n",
    "def gini(y):\n",
    "    \"\"\"Índice ou impureza de Gini\"\"\"\n",
    "    if y.shape[0] == 0: return 0.0\n",
    "    classes, cont_classes = np.unique(y, return_counts=True)\n",
    "    prob_ck = cont_classes / y.shape[0]\n",
    "    G = 1.0 - np.sum(prob_ck**2)\n",
    "    return G\n",
    "\n",
    "def gini_medio_das_ramificacoes(gini_menor, gini_maior_igual, qtde_gini_menor):\n",
    "    probabilidade = qtde_gini_menor/y.shape[0]\n",
    "    gini_medio = (probabilidade*gini_menor) + ((1 - probabilidade)*gini_maior_igual)\n",
    "    return gini_medio\n",
    "    \n",
    "def classe_mais_frequente(y):\n",
    "    classes, cont_classes = np.unique(y, return_counts=True)\n",
    "    return classes[np.argmax(cont_classes)]"
   ]
  },
  {
   "cell_type": "code",
   "execution_count": 146,
   "metadata": {},
   "outputs": [],
   "source": [
    "class No():\n",
    "    def __init__(self, pai=None):\n",
    "        self.pai = pai\n",
    "        self.filho_esquerdo = None   \n",
    "        self.filho_direito = None \n",
    "        self.indice_da_feature = None\n",
    "        self.valor_limiar = None\n",
    "        self.eh_folha = True\n",
    "        self.saida = None\n",
    "        \n",
    "class ArvoreDeDecisao():\n",
    "    def __init__(self, criterio=gini, max_depth=None):\n",
    "        self.criterio = criterio\n",
    "        self.profundidade_maxima = np.inf if max_depth is None else max_depth\n",
    "        self.raiz = No()\n",
    "\n",
    "    def treinamento(self, x, y):\n",
    "        self.__construir_a_arvore(self.raiz, x, y)\n",
    "\n",
    "\n",
    "    def __construir_a_arvore(self, no_pai, x, y, profundidade=0):\n",
    "        no_pai.indice_da_feature, no_pai.valor_limiar, melhor_ganho = self.__encontra_melhor_corte(x, y)\n",
    "\n",
    "        if melhor_ganho == 0.0 or profundidade > self.profundidade_maxima: \n",
    "            no_pai.saida = classe_mais_frequente(y)\n",
    "            return\n",
    "\n",
    "        filho_esquerdo = No(pai=no_pai)\n",
    "        filho_direito = No(pai=no_pai)\n",
    "        no_pai.eh_folha = False\n",
    "\n",
    "        x_esquerdo, y_esquerdo, x_direito, y_direito = self.__dividir_dados_pelo_valor_da_feature(x, y, no_pai.indice_da_feature, no_pai.valor_limiar)\n",
    "\n",
    "        if len(x_esquerdo) >= 2:\n",
    "            self.__construir_a_arvore(filho_esquerdo, x_esquerdo, y_esquerdo, profundidade + 1)\n",
    "        else:\n",
    "            filho_esquerdo.saida = classe_mais_frequente(y_esquerdo)\n",
    "\n",
    "        if len(x_direito) >= 2:\n",
    "            self.__construir_a_arvore(filho_direito, x_direito, y_direito, profundidade + 1)\n",
    "        else:\n",
    "            filho_direito.saida = classe_mais_frequente(y_direito)\n",
    "\n",
    "        no_pai.filho_esquerdo = filho_esquerdo\n",
    "        no_pai.filho_direito = filho_direito\n",
    "\n",
    "\n",
    "    def __encontra_melhor_corte(self, x, y):\n",
    "        melhor_ganho, melhor_atributo, melhor_valor = 0.0, None, None\n",
    "        impureza_atual = self.criterio(y) # o critério é a função gini\n",
    "\n",
    "        for indice_da_feature in range(x.shape[1]):\n",
    "            valores_da_feature = np.unique(x[:, indice_da_feature])\n",
    "            \n",
    "            for valor in valores_da_feature:\n",
    "                _, y_left, _, y_right = self.__dividir_dados_pelo_valor_da_feature(x, y, indice_da_feature, valor)\n",
    "                \n",
    "                impureza_gini_menor = self.criterio(y_left)\n",
    "                impureza_gini_maior_igual = self.criterio(y_right)\n",
    "\n",
    "                ganho = impureza_atual - gini_medio_das_ramificacoes(impureza_gini_menor, impureza_gini_maior_igual, len(y_left))\n",
    "                if ganho > melhor_ganho:\n",
    "                    melhor_ganho = ganho\n",
    "                    melhor_atributo = indice_da_feature\n",
    "                    melhor_valor = valor\n",
    "\n",
    "        return melhor_atributo, melhor_valor, melhor_ganho\n",
    "    \n",
    "    def __dividir_dados_pelo_valor_da_feature(self, x, y, indice_atributo, valor):\n",
    "        indices_cujo_valor_e_menor = x[:, indice_atributo] < valor\n",
    "        indices_cujo_valor_e_maior_ou_igual = np.invert(indices_cujo_valor_e_menor)\n",
    "        return x[indices_cujo_valor_e_menor], y[indices_cujo_valor_e_menor], x[indices_cujo_valor_e_maior_ou_igual], y[indices_cujo_valor_e_maior_ou_igual]\n",
    "    \n",
    "    def predicao(self, x):\n",
    "        return np.array([self.__computar_saida(xi, self.raiz) for xi in x])\n",
    "    \n",
    "    def __computar_saida(self, xi, node):\n",
    "        if node.eh_folha: return node.saida\n",
    "        \n",
    "        descer_a_direita = xi[node.indice_da_feature] >= node.valor_limiar\n",
    "        return self.__computar_saida(xi, node.filho_direito if descer_a_direita else node.filho_esquerdo)"
   ]
  },
  {
   "attachments": {},
   "cell_type": "markdown",
   "metadata": {},
   "source": [
    "### K-fold"
   ]
  },
  {
   "cell_type": "code",
   "execution_count": 114,
   "metadata": {},
   "outputs": [
    {
     "name": "stdout",
     "output_type": "stream",
     "text": [
      "AD 0.6818181818181818\n",
      "AD 0.7272727272727273\n",
      "AD 0.7727272727272727\n",
      "AD 0.7142857142857143\n",
      "AD 0.5714285714285714\n",
      "AD 0.7142857142857143\n",
      "AD 0.6666666666666666\n",
      "AD 0.47619047619047616\n",
      "AD 0.6666666666666666\n",
      "AD 0.6190476190476191\n"
     ]
    }
   ],
   "source": [
    "kfold = KFold(n_splits=K, random_state=42, shuffle=True)\n",
    "fold = 0\n",
    "accuracias = [[], [], [], []]\n",
    "revocacoes = [[], [], [], []]\n",
    "f1s = [[], [], [], []]\n",
    "precisoes = [[], [], [], []]\n",
    "metricas_arvore_decisao = [[],[],[],[]]\n",
    "\n",
    "for train_index, test_index in kfold.split(X):\n",
    "  fold += 1\n",
    "  X_train, X_test, y_train, y_test = X[train_index], X[test_index], y[train_index], y[test_index]\n",
    "\n",
    "  X_train = escalar_minmax.fit_transform(X_train)\n",
    "  X_test = escalar_minmax.fit_transform(X_test)\n",
    "\n",
    "  y_predito = [classificacao_knn_euclidiana(X_train, y_train, x, 1) for x in X_test]\n",
    "  y_predito_k5 = [classificacao_knn_euclidiana(X_train, y_train, x, 5) for x in X_test]\n",
    "  y_predito_maha = [classificacao_knn_mahalanobis(X_train, y_train, x, 1) for x in X_test]\n",
    "  y_predito_maha_k5 = [classificacao_knn_mahalanobis(X_train, y_train, x, 5) for x in X_test]\n",
    "\n",
    "  accuracias[0].append(accuracy_score(y_test, y_predito))\n",
    "  accuracias[1].append(accuracy_score(y_test, y_predito_k5))\n",
    "  accuracias[2].append(accuracy_score(y_test, y_predito_maha))\n",
    "  accuracias[3].append(accuracy_score(y_test, y_predito_maha_k5))\n",
    "\n",
    "  revocacoes[0].append(recall_score(y_test, y_predito))\n",
    "  revocacoes[1].append(recall_score(y_test, y_predito_k5))\n",
    "  revocacoes[2].append(recall_score(y_test, y_predito_maha))\n",
    "  revocacoes[3].append(recall_score(y_test, y_predito_maha_k5))\n",
    "\n",
    "  f1s[0].append(f1_score(y_test, y_predito))\n",
    "  f1s[1].append(f1_score(y_test, y_predito_k5))\n",
    "  f1s[2].append(f1_score(y_test, y_predito_maha))\n",
    "  f1s[3].append(f1_score(y_test, y_predito_maha_k5))\n",
    "\n",
    "  precisoes[0].append(precision_score(y_test, y_predito))\n",
    "  precisoes[1].append(precision_score(y_test, y_predito_k5))\n",
    "  precisoes[2].append(precision_score(y_test, y_predito_maha))\n",
    "  precisoes[3].append(precision_score(y_test, y_predito_maha_k5))\n",
    "\n",
    "  ad = ArvoreDeDecisao()\n",
    "  ad.treinamento(X_train, y_train)\n",
    "  y_predito_ad = ad.predicao(X_test)\n",
    "\n",
    "  metricas_arvore_decisao[0].append(accuracy_score(y_test, y_predito_ad))\n",
    "  metricas_arvore_decisao[1].append(recall_score(y_test, y_predito_ad))\n",
    "  metricas_arvore_decisao[2].append(f1_score(y_test, y_predito_ad))\n",
    "  metricas_arvore_decisao[3].append(precision_score(y_test, y_predito_ad))"
   ]
  },
  {
   "attachments": {},
   "cell_type": "markdown",
   "metadata": {},
   "source": [
    "### # Métricas do KNN"
   ]
  },
  {
   "cell_type": "code",
   "execution_count": 150,
   "metadata": {},
   "outputs": [
    {
     "data": {
      "image/png": "[encoded data removed]",
      "text/plain": [
       "<Figure size 720x432 with 4 Axes>"
      ]
     },
     "metadata": {
      "needs_background": "light"
     },
     "output_type": "display_data"
    }
   ],
   "source": [
    "colunas = ('acurácia', 'revocação','precisão', 'f1-score')\n",
    "metricas = {\n",
    "    'mean': np.array([np.round(np.mean(accuracias[0]),2), np.round(np.mean(revocacoes[0]),2), np.round(np.mean(precisoes[0]),2), np.round(np.mean(f1s[0]),2)]),\n",
    "    'std': np.array([np.round(np.std(accuracias[0]),2), np.round(np.std(revocacoes[0]),2), np.round(np.std(precisoes[0]),2), np.round(np.std(f1s[0]),2)])\n",
    "}\n",
    "metricas_k5 = {\n",
    "    'mean': np.array([np.round(np.mean(accuracias[1]),2), np.round(np.mean(revocacoes[1]),2), np.round(np.mean(precisoes[1]),2), np.round(np.mean(f1s[1]),2)]),\n",
    "    'std': np.array([np.round(np.std(accuracias[1]),2), np.round(np.std(revocacoes[1]),2), np.round(np.std(precisoes[1]),2), np.round(np.std(f1s[1]),2)])\n",
    "}\n",
    "metricas_maha = {\n",
    "    'mean': np.array([np.round(np.mean(accuracias[2]),2), np.round(np.mean(revocacoes[2]),2), np.round(np.mean(precisoes[2]),2), np.round(np.mean(f1s[2]),2)]),\n",
    "    'std': np.array([np.round(np.std(accuracias[2]),2), np.round(np.std(revocacoes[2]),2), np.round(np.std(precisoes[2]),2), np.round(np.std(f1s[2]),2)])\n",
    "}\n",
    "metricas_maha_k5 = {\n",
    "    'mean': np.array([np.round(np.mean(accuracias[3]),2), np.round(np.mean(revocacoes[3]),2), np.round(np.mean(precisoes[3]),2), np.round(np.mean(f1s[3]),2)]),\n",
    "    'std': np.array([np.round(np.std(accuracias[3]),2), np.round(np.std(revocacoes[3]),2), np.round(np.std(precisoes[3]),2), np.round(np.std(f1s[3]),2)])\n",
    "}\n",
    "\n",
    "\n",
    "fig, ((ax1, ax2), (ax3, ax4)) = plt.subplots(2, 2, figsize=(10,6), layout='constrained')\n",
    "bottom = np.zeros(4)\n",
    "for metrica, qtde_metrica in metricas.items():\n",
    "    p = ax1.bar(colunas, qtde_metrica, width=0.6, label=metrica, bottom=bottom)\n",
    "    bottom += qtde_metrica\n",
    "    ax1.bar_label(p, label_type='center')\n",
    "    ax1.set_title('KNN - Distância Euclidiana k=1')\n",
    "    ax1.legend()\n",
    "\n",
    "bottom = np.zeros(4)\n",
    "for metrica, qtde_metrica in metricas_k5.items():\n",
    "    p = ax2.bar(colunas, qtde_metrica, width=0.6, label=metrica, bottom=bottom)\n",
    "    bottom += qtde_metrica\n",
    "    ax2.bar_label(p, label_type='center')\n",
    "    ax2.set_title('KNN - Distância Euclidiana k=5')\n",
    "    ax2.legend()\n",
    "\n",
    "bottom = np.zeros(4)\n",
    "for metrica, qtde_metrica in metricas_maha.items():\n",
    "    p = ax3.bar(colunas, qtde_metrica, width=0.6, label=metrica, bottom=bottom)\n",
    "    bottom += qtde_metrica\n",
    "    ax3.bar_label(p, label_type='center')\n",
    "    ax3.set_title('KNN - Distância Mahalanobis k=1')\n",
    "    ax3.legend()    \n",
    "\n",
    "bottom = np.zeros(4)\n",
    "for metrica, qtde_metrica in metricas_maha_k5.items():\n",
    "    p = ax4.bar(colunas, qtde_metrica, width=0.6, label=metrica, bottom=bottom)\n",
    "    bottom += qtde_metrica\n",
    "    ax4.bar_label(p, label_type='center')\n",
    "    ax4.set_title('KNN - Distância Mahalanobis k=5')\n",
    "    ax4.legend()  "
   ]
  },
  {
   "attachments": {},
   "cell_type": "markdown",
   "metadata": {},
   "source": [
    "### # Métricas da Árvore de Decisão"
   ]
  },
  {
   "cell_type": "code",
   "execution_count": 156,
   "metadata": {},
   "outputs": [
    {
     "data": {
      "image/png": "[encoded data removed]",
      "text/plain": [
       "<Figure size 432x288 with 1 Axes>"
      ]
     },
     "metadata": {
      "needs_background": "light"
     },
     "output_type": "display_data"
    }
   ],
   "source": [
    "metricas_ad_agrupada = {\n",
    "    'média': np.array([np.round(np.mean(metricas_arvore_decisao[0]),2), np.round(np.mean(metricas_arvore_decisao[1]),2), np.round(np.mean(metricas_arvore_decisao[2]),2), np.round(np.mean(metricas_arvore_decisao[3]),2)]),\n",
    "    'desvio padrão': np.array([np.round(np.std(metricas_arvore_decisao[0]),2), np.round(np.std(metricas_arvore_decisao[1]),2), np.round(np.std(metricas_arvore_decisao[2]),2), np.round(np.std(metricas_arvore_decisao[3]),2)])\n",
    "}\n",
    "x = np.arange(len(colunas))  # posições das labels\n",
    "largura_da_barra = 0.25  # largua das barras\n",
    "multiplicador_para_exibir_a_barra = 0\n",
    "\n",
    "fig, ax = plt.subplots(layout='constrained')\n",
    "\n",
    "for metrica, medida in metricas_ad_agrupada.items():\n",
    "    offset = largura_da_barra * multiplicador_para_exibir_a_barra\n",
    "    a_barra = ax.bar(x + offset, medida, largura_da_barra, label=metrica)\n",
    "    ax.bar_label(a_barra, padding=3)\n",
    "    multiplicador_para_exibir_a_barra += 1\n",
    "\n",
    "ax.set_ylabel('Percentual')\n",
    "ax.set_title('Árvore de decisão')\n",
    "ax.set_xticks(x + largura_da_barra, colunas)\n",
    "ax.legend(loc='upper right', ncols=3)\n",
    "ax.set_ylim(0, 1)\n",
    "\n",
    "plt.show()"
   ]
  }
 ],
 "metadata": {
  "kernelspec": {
   "display_name": "Python 3",
   "language": "python",
   "name": "python3"
  },
  "language_info": {
   "codemirror_mode": {
    "name": "ipython",
    "version": 3
   },
   "file_extension": ".py",
   "mimetype": "text/x-python",
   "name": "python",
   "nbconvert_exporter": "python",
   "pygments_lexer": "ipython3",
   "version": "3.10.11"
  },
  "orig_nbformat": 4
 },
 "nbformat": 4,
 "nbformat_minor": 2
}
