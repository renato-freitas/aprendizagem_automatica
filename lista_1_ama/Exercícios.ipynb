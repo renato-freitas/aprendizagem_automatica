{
 "cells": [
  {
   "cell_type": "code",
   "execution_count": 2,
   "id": "8382e754",
   "metadata": {},
   "outputs": [],
   "source": [
    "import numpy as np\n",
    "import pandas as pd\n",
    "# from plotnine import *\n",
    "from statistics import mean \n",
    "import scipy.stats as stats\n",
    "from sklearn.metrics import mean_squared_error\n",
    "from sklearn.linear_model import LinearRegression\n",
    "https://allmodelsarewrong.github.io/kmeans.html"
   ]
  },
  {
   "cell_type": "code",
   "execution_count": 6,
   "id": "d3c05453",
   "metadata": {},
   "outputs": [],
   "source": [
    "v1 = [10, 20, 10, 0.0]\n",
    "X = [\n",
    "     [10],\n",
    "     [20],\n",
    "[14]]"
   ]
  },
  {
   "cell_type": "code",
   "execution_count": 7,
   "id": "c1df6c83",
   "metadata": {},
   "outputs": [],
   "source": [
    "# Função da média artimética\n",
    "def o(N):\n",
    "    \"\"\"Desvio Padrão\"\"\"\n",
    "\n",
    "def _y_chapeu(w0:float, w1:float, X:pd.DataFrame):\n",
    "    \"\"\"_y_chapeu\"\"\"\n",
    "    return w0 + w1*X    \n",
    "    \n",
    "def erro(y, y_chapeu):\n",
    "    \"\"\"e\"\"\"\n",
    "    return y - y_chapeu\n",
    "    https://pyimagesearch.com/2016/10/17/stochastic-gradient-descent-sgd-with-python/\n",
    "https://towardsdatascience.com/implementing-sgd-from-scratch-d425db18a72c"
   ]
  },
  {
   "cell_type": "code",
   "execution_count": null,
   "id": "6aea04e2",
   "metadata": {},
   "outputs": [],
   "source": [
    "# importar as bibliotecas necessárias\n",
    "import numpy as np\n",
    "import matplotlib.pyplot as plt\n",
    "from sklearn.linear_model import LinearRegression\n",
    "from sklearn.preprocessing import PolynomialFeatures\n",
    "\n",
    "# criar dados de exemplo\n",
    "x = dados_treino[:, 0]\n",
    "y = dados_treino[:, 1]\n",
    "n = len(y)\n",
    "\n",
    "# transformar a matriz x em uma matriz polinomial\n",
    "poly = PolynomialFeatures(degree=3)\n",
    "x_poly = poly.fit_transform(x.reshape(-1, 1))\n",
    "\n",
    "# treinar o modelo de regressão linear\n",
    "model = LinearRegression()\n",
    "model.fit(x_poly, y)\n",
    "\n",
    "# fazer previsões\n",
    "y_pred = model.predict(x_poly)\n",
    "\n",
    "x_teste = dados_teste[:, 0]\n",
    "x_poly_test = poly.fit_transform(x_teste.reshape(-1, 1))\n",
    "y_pred_test = model.predict(x_poly_test)\n",
    "\n",
    "# plotar o gráfico de dispersão dos dados originais e a curva de regressão polinomial\n",
    "plt.scatter(x, y, color='blue')\n",
    "plt.plot(x, y_pred, color='red')\n",
    "plt.plot(y_pred_test, y_pred_test, color='blue')\n",
    "plt.title('Regressão Polinomial')\n",
    "plt.xlabel('x')\n",
    "plt.ylabel('y')\n",
    "plt.show()"
   ]
  },
  {
   "cell_type": "code",
   "execution_count": 8,
   "id": "85ca9e76",
   "metadata": {},
   "outputs": [
    {
     "data": {
      "text/plain": [
       "array([[  14.,   25.,  620.],\n",
       "       [  28.,   25., 1315.],\n",
       "       [  41.,   25., 2120.],\n",
       "       [  55.,   25., 2600.],\n",
       "       [  69.,   25., 3110.],\n",
       "       [  83.,   25., 3535.],\n",
       "       [  97.,   25., 3935.],\n",
       "       [ 111.,   25., 4465.],\n",
       "       [ 125.,   25., 4530.],\n",
       "       [ 139.,   25., 4570.],\n",
       "       [ 153.,   25., 4600.],\n",
       "       [  14.,   27.,  625.],\n",
       "       [  28.,   27., 1215.],\n",
       "       [  41.,   27., 2110.],\n",
       "       [  55.,   27., 2805.],\n",
       "       [  69.,   27., 3255.],\n",
       "       [  83.,   27., 4015.],\n",
       "       [  97.,   27., 4315.],\n",
       "       [ 111.,   27., 4495.],\n",
       "       [ 125.,   27., 4535.],\n",
       "       [ 139.,   27., 4600.],\n",
       "       [ 153.,   27., 4600.],\n",
       "       [  14.,   29.,  590.],\n",
       "       [  28.,   29., 1305.],\n",
       "       [  41.,   29., 2140.],\n",
       "       [  55.,   29., 2890.],\n",
       "       [  69.,   29., 3920.],\n",
       "       [  83.,   29., 3920.],\n",
       "       [  97.,   29., 4515.],\n",
       "       [ 111.,   29., 4520.],\n",
       "       [ 125.,   29., 4525.],\n",
       "       [ 139.,   29., 4565.],\n",
       "       [ 153.,   29., 4566.],\n",
       "       [  14.,   31.,  590.],\n",
       "       [  28.,   31., 1205.],\n",
       "       [  41.,   31., 1915.],\n",
       "       [  55.,   31., 2140.],\n",
       "       [  69.,   31., 2710.],\n",
       "       [  83.,   31., 3020.],\n",
       "       [  97.,   31., 3030.],\n",
       "       [ 111.,   31., 3040.],\n",
       "       [ 125.,   31., 3180.],\n",
       "       [ 139.,   31., 3257.],\n",
       "       [ 153.,   31., 3214.]])"
      ]
     },
     "execution_count": 8,
     "metadata": {},
     "output_type": "execute_result"
    }
   ],
   "source": [
    "# cateterismo = np.genfromtxt('artificial1d.csv', delimiter=',')\n",
    "peixe_dataset = np.genfromtxt('peixe.txt', delimiter=',')\n",
    "peixe_dataset"
   ]
  },
  {
   "cell_type": "markdown",
   "id": "28f3a332",
   "metadata": {},
   "source": [
    "### Computar a fórmula da normalização escore-Z"
   ]
  },
  {
   "cell_type": "code",
   "execution_count": 9,
   "id": "dd2e234a",
   "metadata": {},
   "outputs": [
    {
     "data": {
      "text/plain": [
       "array([[-0.37151679, -0.36765732, -0.15889492],\n",
       "       [-0.36660474, -0.36765732,  0.08495359],\n",
       "       [-0.36204354, -0.36765732,  0.36739683],\n",
       "       [-0.35713148, -0.36765732,  0.53581019],\n",
       "       [-0.35221943, -0.36765732,  0.71474939],\n",
       "       [-0.34730737, -0.36765732,  0.86386539],\n",
       "       [-0.34239531, -0.36765732,  1.00420985],\n",
       "       [-0.33748326, -0.36765732,  1.19016627],\n",
       "       [-0.3325712 , -0.36765732,  1.21297225],\n",
       "       [-0.32765915, -0.36765732,  1.2270067 ],\n",
       "       [-0.32274709, -0.36765732,  1.23753253],\n",
       "       [-0.37151679, -0.3669556 , -0.15714062],\n",
       "       [-0.36660474, -0.3669556 ,  0.04986747],\n",
       "       [-0.36204354, -0.3669556 ,  0.36388822],\n",
       "       [-0.35713148, -0.3669556 ,  0.60773673],\n",
       "       [-0.35221943, -0.3669556 ,  0.76562426],\n",
       "       [-0.34730737, -0.3669556 ,  1.03227875],\n",
       "       [-0.34239531, -0.3669556 ,  1.1375371 ],\n",
       "       [-0.33748326, -0.3669556 ,  1.20069211],\n",
       "       [-0.3325712 , -0.3669556 ,  1.21472655],\n",
       "       [-0.32765915, -0.3669556 ,  1.23753253],\n",
       "       [-0.32274709, -0.3669556 ,  1.23753253],\n",
       "       [-0.37151679, -0.36625387, -0.16942076],\n",
       "       [-0.36660474, -0.36625387,  0.08144498],\n",
       "       [-0.36204354, -0.36625387,  0.37441405],\n",
       "       [-0.35713148, -0.36625387,  0.63755993],\n",
       "       [-0.35221943, -0.36625387,  0.99894694],\n",
       "       [-0.34730737, -0.36625387,  0.99894694],\n",
       "       [-0.34239531, -0.36625387,  1.20770933],\n",
       "       [-0.33748326, -0.36625387,  1.20946364],\n",
       "       [-0.3325712 , -0.36625387,  1.21121794],\n",
       "       [-0.32765915, -0.36625387,  1.22525239],\n",
       "       [-0.32274709, -0.36625387,  1.22560325],\n",
       "       [-0.37151679, -0.36555215, -0.16942076],\n",
       "       [-0.36660474, -0.36555215,  0.04635886],\n",
       "       [-0.36204354, -0.36555215,  0.29547029],\n",
       "       [-0.35713148, -0.36555215,  0.37441405],\n",
       "       [-0.35221943, -0.36555215,  0.57440492],\n",
       "       [-0.34730737, -0.36555215,  0.68317188],\n",
       "       [-0.34239531, -0.36555215,  0.68668049],\n",
       "       [-0.33748326, -0.36555215,  0.69018911],\n",
       "       [-0.3325712 , -0.36555215,  0.73930967],\n",
       "       [-0.32765915, -0.36555215,  0.76632598],\n",
       "       [-0.32274709, -0.36555215,  0.75123895]])"
      ]
     },
     "execution_count": 9,
     "metadata": {},
     "output_type": "execute_result"
    }
   ],
   "source": [
    "def z_escore(X):\n",
    "    u = np.mean(X)\n",
    "\n",
    "    xi_u = X - u\n",
    "    xi_u2 = (X - u) ** 2\n",
    "    soma_xi_u2 = np.sum(xi_u2)\n",
    "\n",
    "#     o = np.sqrt(soma_xi_u2/(len(X) -1))\n",
    "    o = (soma_xi_u2/(len(X) -1)) ** 0.5\n",
    "\n",
    "    _xi = xi_u/o\n",
    "    return _xi\n",
    "#     print(f'dataset in z-score {_xi.shape}: {_xi}')\n",
    "    \n",
    "Z = z_escore(peixe_dataset)\n",
    "Z"
   ]
  },
  {
   "cell_type": "code",
   "execution_count": 10,
   "id": "7ceeb5b8",
   "metadata": {},
   "outputs": [
    {
     "name": "stdout",
     "output_type": "stream",
     "text": [
      "[[-1.5718109  -1.34164079 -1.893348  ]\n",
      " [-1.2537309  -1.34164079 -1.36433777]\n",
      " [-0.9583709  -1.34164079 -0.75159932]\n",
      " [-0.6402909  -1.34164079 -0.38623974]\n",
      " [-0.32221091 -1.34164079  0.00195481]\n",
      " [-0.00413091 -1.34164079  0.32545027]\n",
      " [ 0.31394909 -1.34164079  0.62991659]\n",
      " [ 0.63202909 -1.34164079  1.03333445]\n",
      " [ 0.95010908 -1.34164079  1.08281023]\n",
      " [ 1.26818908 -1.34164079  1.11325686]\n",
      " [ 1.58626908 -1.34164079  1.13609183]\n",
      " [-1.5718109  -0.4472136  -1.88954217]\n",
      " [-1.2537309  -0.4472136  -1.44045435]\n",
      " [-0.9583709  -0.4472136  -0.75921097]\n",
      " [-0.6402909  -0.4472136  -0.23020075]\n",
      " [-0.32221091 -0.4472136   0.11232385]\n",
      " [-0.00413091 -0.4472136   0.69080985]\n",
      " [ 0.31394909 -0.4472136   0.91915958]\n",
      " [ 0.63202909 -0.4472136   1.05616943]\n",
      " [ 0.95010908 -0.4472136   1.08661606]\n",
      " [ 1.26818908 -0.4472136   1.13609183]\n",
      " [ 1.58626908 -0.4472136   1.13609183]\n",
      " [-1.5718109   0.4472136  -1.91618297]\n",
      " [-1.2537309   0.4472136  -1.37194943]\n",
      " [-0.9583709   0.4472136  -0.736376  ]\n",
      " [-0.6402909   0.4472136  -0.16550166]\n",
      " [-0.32221091  0.4472136   0.6184991 ]\n",
      " [-0.00413091  0.4472136   0.6184991 ]\n",
      " [ 0.31394909  0.4472136   1.07139274]\n",
      " [ 0.63202909  0.4472136   1.07519857]\n",
      " [ 0.95010908  0.4472136   1.0790044 ]\n",
      " [ 1.26818908  0.4472136   1.10945103]\n",
      " [ 1.58626908  0.4472136   1.1102122 ]\n",
      " [-1.5718109   1.34164079 -1.91618297]\n",
      " [-1.2537309   1.34164079 -1.44806601]\n",
      " [-0.9583709   1.34164079 -0.9076383 ]\n",
      " [-0.6402909   1.34164079 -0.736376  ]\n",
      " [-0.32221091  1.34164079 -0.3025115 ]\n",
      " [-0.00413091  1.34164079 -0.06655011]\n",
      " [ 0.31394909  1.34164079 -0.05893845]\n",
      " [ 0.63202909  1.34164079 -0.05132679]\n",
      " [ 0.95010908  1.34164079  0.05523642]\n",
      " [ 1.26818908  1.34164079  0.11384618]\n",
      " [ 1.58626908  1.34164079  0.08111605]]\n"
     ]
    }
   ],
   "source": [
    "zscores = stats.zscore(peixe_dataset)\n",
    "print(zscores)"
   ]
  },
  {
   "cell_type": "markdown",
   "id": "35311c36",
   "metadata": {},
   "source": [
    "### Regressão linear via mínimos quadrados ordinários (OLS)"
   ]
  },
  {
   "cell_type": "code",
   "execution_count": 11,
   "id": "078a9dd8",
   "metadata": {},
   "outputs": [
    {
     "data": {
      "text/plain": [
       "array([[ 14.,  25.],\n",
       "       [ 28.,  25.],\n",
       "       [ 41.,  25.],\n",
       "       [ 55.,  25.],\n",
       "       [ 69.,  25.],\n",
       "       [ 83.,  25.],\n",
       "       [ 97.,  25.],\n",
       "       [111.,  25.],\n",
       "       [125.,  25.],\n",
       "       [139.,  25.],\n",
       "       [153.,  25.],\n",
       "       [ 14.,  27.],\n",
       "       [ 28.,  27.],\n",
       "       [ 41.,  27.],\n",
       "       [ 55.,  27.],\n",
       "       [ 69.,  27.],\n",
       "       [ 83.,  27.],\n",
       "       [ 97.,  27.],\n",
       "       [111.,  27.],\n",
       "       [125.,  27.],\n",
       "       [139.,  27.],\n",
       "       [153.,  27.],\n",
       "       [ 14.,  29.],\n",
       "       [ 28.,  29.],\n",
       "       [ 41.,  29.],\n",
       "       [ 55.,  29.],\n",
       "       [ 69.,  29.],\n",
       "       [ 83.,  29.],\n",
       "       [ 97.,  29.],\n",
       "       [111.,  29.],\n",
       "       [125.,  29.],\n",
       "       [139.,  29.],\n",
       "       [153.,  29.],\n",
       "       [ 14.,  31.],\n",
       "       [ 28.,  31.],\n",
       "       [ 41.,  31.],\n",
       "       [ 55.,  31.],\n",
       "       [ 69.,  31.],\n",
       "       [ 83.,  31.],\n",
       "       [ 97.,  31.],\n",
       "       [111.,  31.],\n",
       "       [125.,  31.],\n",
       "       [139.,  31.],\n",
       "       [153.,  31.]])"
      ]
     },
     "execution_count": 11,
     "metadata": {},
     "output_type": "execute_result"
    }
   ],
   "source": [
    "X = peixe_dataset[:, [0,1]]\n",
    "\n",
    "y = peixe_dataset[:, [2]]\n",
    "\n",
    "# print(peixe_dataset)\n",
    "\n",
    "# X\n",
    "ones = np.ones((1,X.shape[0]))\n",
    "# print(ones)\n",
    "# print(ones.T)\n",
    "# _x = np.concatenate((ones, X), axis=0)\n",
    "# _x\n",
    "X\n"
   ]
  },
  {
   "cell_type": "code",
   "execution_count": 12,
   "id": "f2b12a79",
   "metadata": {},
   "outputs": [
    {
     "name": "stdout",
     "output_type": "stream",
     "text": [
      "_y = w0 + w1*X\n",
      "0     0.000000\n",
      "1     0.006897\n",
      "2     0.013793\n",
      "3     0.020690\n",
      "4     0.027586\n",
      "5     0.034483\n",
      "6     0.041379\n",
      "7     0.048276\n",
      "8     0.055172\n",
      "9     0.062069\n",
      "10    0.068966\n",
      "11    0.075862\n",
      "12    0.082759\n",
      "13    0.089655\n",
      "14    0.096552\n",
      "15    0.103448\n",
      "16    0.110345\n",
      "17    0.117241\n",
      "18    0.124138\n",
      "19    0.131034\n",
      "20    0.137931\n",
      "21    0.144828\n",
      "22    0.151724\n",
      "23    0.158621\n",
      "24    0.165517\n",
      "25    0.172414\n",
      "26    0.179310\n",
      "27    0.186207\n",
      "28    0.193103\n",
      "29    0.200000\n",
      "Name: x, dtype: float64\n",
      "e_i\n",
      "0    -2.082017\n",
      "1    -1.333877\n",
      "2    -1.119391\n",
      "3    -0.894635\n",
      "4    -0.312613\n",
      "5    -0.465635\n",
      "6    -0.836133\n",
      "7    -0.934344\n",
      "8    -0.955072\n",
      "9    -0.923913\n",
      "10   -0.957017\n",
      "11   -1.311813\n",
      "12   -0.802327\n",
      "13   -0.541678\n",
      "14    0.002348\n",
      "15    0.245521\n",
      "16   -0.012867\n",
      "17    0.582957\n",
      "18    1.186374\n",
      "19    0.870741\n",
      "20    0.865251\n",
      "21    1.004274\n",
      "22    1.440482\n",
      "23    0.450469\n",
      "24    0.428899\n",
      "25    0.530594\n",
      "26    0.644012\n",
      "27    0.920257\n",
      "28    1.229854\n",
      "29    2.109838\n",
      "dtype: float64\n",
      "e_2\n",
      "0     4.334796\n",
      "1     1.779227\n",
      "2     1.253036\n",
      "3     0.800373\n",
      "4     0.097727\n",
      "5     0.216816\n",
      "6     0.699119\n",
      "7     0.872999\n",
      "8     0.912163\n",
      "9     0.853615\n",
      "10    0.915882\n",
      "11    1.720854\n",
      "12    0.643728\n",
      "13    0.293415\n",
      "14    0.000006\n",
      "15    0.060281\n",
      "16    0.000166\n",
      "17    0.339839\n",
      "18    1.407484\n",
      "19    0.758190\n",
      "20    0.748660\n",
      "21    1.008566\n",
      "22    2.074988\n",
      "23    0.202923\n",
      "24    0.183954\n",
      "25    0.281529\n",
      "26    0.414752\n",
      "27    0.846874\n",
      "28    1.512540\n",
      "29    4.451415\n",
      "dtype: float64\n",
      "somatório\n",
      "29.68591440815371\n",
      "dividido por 1/2N\n",
      "0.9895304802717904\n"
     ]
    }
   ],
   "source": [
    "# cateterismo = pd.DataFrame([[1.20, .53], [1.32, .56], [1.38, .54], [1.39, .55],[1.60, .6], [1.55, .57]], columns=['x','y'])\n",
    "# print(cateterismo)\n",
    "cateterismo = pd.read_csv(\"artificial1d.csv\", names=[\"x\",\"y\"])\n",
    "\n",
    "X = cateterismo['x']\n",
    "Y = cateterismo['y']\n",
    "\n",
    "w0 = 0.1 \n",
    "w1 = 0.1\n",
    "\n",
    "_y = w0 + w1*X\n",
    "print('_y = w0 + w1*X')\n",
    "print(_y)\n",
    "\n",
    "e_i = (Y - _y)\n",
    "print('e_i')\n",
    "print(e_i)\n",
    "\n",
    "\n",
    "e_2 = (Y - _y)**2\n",
    "print('e_2')\n",
    "print(e_2)\n",
    "\n",
    "\n",
    "print('somatório')\n",
    "print(np.sum(e_2))\n",
    "\n",
    "print('dividido por 1/2N')\n",
    "print(np.sum(e_2)/X.shape[0])\n",
    "\n"
   ]
  },
  {
   "cell_type": "code",
   "execution_count": 13,
   "id": "72b61efb",
   "metadata": {
    "scrolled": true
   },
   "outputs": [
    {
     "name": "stdout",
     "output_type": "stream",
     "text": [
      "        t         c\n",
      "0       1  1.101723\n",
      "1       2  1.101659\n",
      "2       3  1.101595\n",
      "3       4  1.101531\n",
      "4       5  1.101467\n",
      "..    ...       ...\n",
      "995   996  1.040402\n",
      "996   997  1.040342\n",
      "997   998  1.040283\n",
      "998   999  1.040223\n",
      "999  1000  1.040164\n",
      "\n",
      "[1000 rows x 2 columns]\n"
     ]
    }
   ],
   "source": [
    "#Gradiente Descendete\n",
    "t = 0\n",
    "epocas = 1000\n",
    "alfa = 0.0001\n",
    "\n",
    "w0 = 0\n",
    "w1 = 0\n",
    "\n",
    "\n",
    "dados = []\n",
    "while t < epocas:\n",
    "    t = t + 1\n",
    "    _y_ = _y_chapeu(w0, w1, X)\n",
    "    _erro = erro(Y, _y_)\n",
    "    \n",
    "    w0 = w0 + (alfa * np.mean(_erro))\n",
    "    w1 = w1 + (alfa * np.mean(_erro*X))\n",
    "\n",
    "    e_2 = _erro**2\n",
    "\n",
    "    custo = np.sum(e_2)/X.shape[0]\n",
    "    \n",
    "    dados.append([t, custo])\n",
    "w0w1 = pd.DataFrame(data=dados, columns=['t','c'])\n",
    "print(w0w1)    "
   ]
  },
  {
   "cell_type": "code",
   "execution_count": 14,
   "id": "1715bafe",
   "metadata": {},
   "outputs": [
    {
     "data": {
      "image/png": "[encoded data removed]",
      "text/plain": [
       "<Figure size 640x480 with 1 Axes>"
      ]
     },
     "metadata": {},
     "output_type": "display_data"
    },
    {
     "data": {
      "text/plain": [
       "<ggplot: (135825080675)>"
      ]
     },
     "execution_count": 14,
     "metadata": {},
     "output_type": "execute_result"
    }
   ],
   "source": [
    "(ggplot(w0w1, aes('t','c'))\n",
    " + geom_point()\n",
    " + theme_light()\n",
    "#  + geom_abline(intercept=np.sum(e_2)/X.shape[0] , slope=np.sum(e_2)/X.shape[0], color='red')\n",
    ")"
   ]
  },
  {
   "cell_type": "code",
   "execution_count": 328,
   "id": "a7081079",
   "metadata": {},
   "outputs": [
    {
     "data": {
      "image/png": "[encoded data removed]",
      "text/plain": [
       "<Figure size 640x480 with 1 Axes>"
      ]
     },
     "metadata": {},
     "output_type": "display_data"
    },
    {
     "data": {
      "text/plain": [
       "<ggplot: (158756203959)>"
      ]
     },
     "execution_count": 328,
     "metadata": {},
     "output_type": "execute_result"
    }
   ],
   "source": [
    "(ggplot(cateterismo, aes('x','y'))\n",
    " + geom_point()\n",
    " + theme_light()\n",
    " + geom_abline(intercept=3.5 , slope=6.45, color='red')\n",
    ")"
   ]
  },
  {
   "cell_type": "code",
   "execution_count": 20,
   "id": "ee4da060",
   "metadata": {},
   "outputs": [
    {
     "name": "stdout",
     "output_type": "stream",
     "text": [
      "[[-0.93103448 -1.32698023 -1.31935723]\n",
      " [-0.86206897 -1.10559772 -1.21499291]\n",
      " [-0.79310345 -0.87394576 -1.11062859]\n",
      " [-0.72413793 -0.28502695 -1.00626427]\n",
      " [-0.65517241 -0.43115252 -0.90189994]\n",
      " [-0.5862069  -0.79475402 -0.79753562]\n",
      " [-0.51724138 -0.88606806 -0.6931713 ]\n",
      " [-0.44827586 -0.89989978 -0.58880698]\n",
      " [-0.37931034 -0.86184365 -0.48444266]\n",
      " [-0.31034483 -0.88805183 -0.38007833]\n",
      " [-0.24137931 -1.23595129 -0.27571401]\n",
      " [-0.17241379 -0.71956827 -0.17134969]\n",
      " [-0.10344828 -0.45202286 -0.06698537]\n",
      " [-0.03448276  0.09889951  0.03737895]\n",
      " [ 0.03448276  0.34896973  0.14174328]\n",
      " [ 0.10344828  0.09747797  0.2461076 ]\n",
      " [ 0.17241379  0.70019809  0.35047192]\n",
      " [ 0.24137931  1.31051213  0.45483624]\n",
      " [ 0.31034483  1.00177576  0.55920056]\n",
      " [ 0.37931034  1.00318231  0.66356489]\n",
      " [ 0.44827586  1.14910129  0.76792921]\n",
      " [ 0.51724138  1.59220607  0.87229353]\n",
      " [ 0.5862069   0.60909009  0.97665785]\n",
      " [ 0.65517241  0.59441623  1.08102217]\n",
      " [ 0.72413793  0.70300732  1.18538649]\n",
      " [ 0.79310345  0.82332241  1.28975082]\n",
      " [ 0.86206897  1.10646439  1.39411514]\n",
      " [ 0.93103448  1.42295695  1.49847946]\n",
      " [ 1.          2.30983768  1.60284378]]\n"
     ]
    }
   ],
   "source": [
    "df = np.genfromtxt(\"./artificial1d.csv\", delimiter=',', skip_header=1)\n",
    "model = LinearRegression()\n",
    "model.fit(df[:, [0]], df[:, 1])\n",
    "y_2 = model.predict(df[:, [0]])\n",
    "df_predicted = np.c_[df, y_2]\n",
    "print(df_predicted)"
   ]
  },
  {
   "cell_type": "code",
   "execution_count": 34,
   "id": "51a8d49c",
   "metadata": {},
   "outputs": [
    {
     "name": "stdout",
     "output_type": "stream",
     "text": [
      "0.20771235894617693\n"
     ]
    }
   ],
   "source": [
    "mse = mean_squared_error(df_predicted[:, 1], df_predicted[:, 2])\n",
    "print(mse)"
   ]
  },
  {
   "cell_type": "code",
   "execution_count": 35,
   "id": "414ca4c4",
   "metadata": {},
   "outputs": [
    {
     "name": "stdout",
     "output_type": "stream",
     "text": [
      "0.20771235894617693\n"
     ]
    }
   ],
   "source": [
    "def mse(actual, predicted):\n",
    "    actual = np.array(actual)\n",
    "    predicted = np.array(predicted)\n",
    "    differences = np.subtract(actual, predicted)\n",
    "    squared_differences = np.square(differences)\n",
    "    return squared_differences.mean()\n",
    "\n",
    "\n",
    "print(mse(df_predicted[:, 1], df_predicted[:, 2]))"
   ]
  },
  {
   "cell_type": "code",
   "execution_count": 50,
   "id": "50c4f6ed",
   "metadata": {},
   "outputs": [
    {
     "name": "stdout",
     "output_type": "stream",
     "text": [
      "0.20771235894617693\n",
      "0.10385617947308846\n"
     ]
    }
   ],
   "source": [
    "def mse_do_zero(actual, predicted):\n",
    "  erro = actual - predicted\n",
    "  erro_2 = np.square(erro)\n",
    "  return erro_2.mean()\n",
    "\n",
    "\n",
    "def get_custo(actual, predicted):\n",
    "  erro = actual - predicted\n",
    "  erro_2 = np.square(erro)\n",
    "  return erro_2.mean()/2\n",
    "\n",
    "print(mse_do_zero(df_predicted[:, 1], df_predicted[:, 2]))\n",
    "print(get_custo(df_predicted[:, 1], df_predicted[:, 2]))\n"
   ]
  }
 ],
 "metadata": {
  "kernelspec": {
   "display_name": "Python 3 (ipykernel)",
   "language": "python",
   "name": "python3"
  },
  "language_info": {
   "codemirror_mode": {
    "name": "ipython",
    "version": 3
   },
   "file_extension": ".py",
   "mimetype": "text/x-python",
   "name": "python",
   "nbconvert_exporter": "python",
   "pygments_lexer": "ipython3",
   "version": "3.10.11"
  }
 },
 "nbformat": 4,
 "nbformat_minor": 5
}
