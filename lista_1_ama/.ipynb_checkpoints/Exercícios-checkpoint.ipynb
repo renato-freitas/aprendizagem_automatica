{
 "cells": [
  {
   "cell_type": "code",
   "execution_count": 319,
   "id": "8382e754",
   "metadata": {},
   "outputs": [],
   "source": [
    "import numpy as np\n",
    "import pandas as pd\n",
    "from plotnine import *\n",
    "from statistics import mean "
   ]
  },
  {
   "cell_type": "code",
   "execution_count": 320,
   "id": "7893c6e4",
   "metadata": {},
   "outputs": [],
   "source": [
    "# Fórmulas"
   ]
  },
  {
   "cell_type": "code",
   "execution_count": 321,
   "id": "4a4a200e",
   "metadata": {},
   "outputs": [],
   "source": [
    "def z_escore():\n",
    "    pass"
   ]
  },
  {
   "cell_type": "code",
   "execution_count": 322,
   "id": "d3c05453",
   "metadata": {},
   "outputs": [],
   "source": [
    "v1 = [10, 20, 10, 0.0]\n",
    "X = [\n",
    "     [10],\n",
    "     [20],\n",
    "[14]]"
   ]
  },
  {
   "cell_type": "code",
   "execution_count": 323,
   "id": "c1df6c83",
   "metadata": {},
   "outputs": [],
   "source": [
    "# Função da média artimética\n",
    "def u(N:list):\n",
    "    \"\"\"Média\"\"\"\n",
    "    return np.mean(N)\n",
    "    \n",
    "\n",
    "def o(N):\n",
    "    \"\"\"Variância\"\"\"\n",
    "\n",
    "def _y_chapeu(w0:float, w1:float, X:pd.DataFrame):\n",
    "    \"\"\"_y_chapeu\"\"\"\n",
    "    return w0 + w1*X    \n",
    "    \n",
    "def erro(y, y_chapeu):\n",
    "    \"\"\"e\"\"\"\n",
    "    return y - y_chapeu\n",
    "    "
   ]
  },
  {
   "cell_type": "code",
   "execution_count": 324,
   "id": "85ca9e76",
   "metadata": {},
   "outputs": [
    {
     "data": {
      "text/plain": [
       "array([[  14.,   25.,  620.],\n",
       "       [  28.,   25., 1315.],\n",
       "       [  41.,   25., 2120.],\n",
       "       [  55.,   25., 2600.],\n",
       "       [  69.,   25., 3110.],\n",
       "       [  83.,   25., 3535.],\n",
       "       [  97.,   25., 3935.],\n",
       "       [ 111.,   25., 4465.],\n",
       "       [ 125.,   25., 4530.],\n",
       "       [ 139.,   25., 4570.],\n",
       "       [ 153.,   25., 4600.],\n",
       "       [  14.,   27.,  625.],\n",
       "       [  28.,   27., 1215.],\n",
       "       [  41.,   27., 2110.],\n",
       "       [  55.,   27., 2805.],\n",
       "       [  69.,   27., 3255.],\n",
       "       [  83.,   27., 4015.],\n",
       "       [  97.,   27., 4315.],\n",
       "       [ 111.,   27., 4495.],\n",
       "       [ 125.,   27., 4535.],\n",
       "       [ 139.,   27., 4600.],\n",
       "       [ 153.,   27., 4600.],\n",
       "       [  14.,   29.,  590.],\n",
       "       [  28.,   29., 1305.],\n",
       "       [  41.,   29., 2140.],\n",
       "       [  55.,   29., 2890.],\n",
       "       [  69.,   29., 3920.],\n",
       "       [  83.,   29., 3920.],\n",
       "       [  97.,   29., 4515.],\n",
       "       [ 111.,   29., 4520.],\n",
       "       [ 125.,   29., 4525.],\n",
       "       [ 139.,   29., 4565.],\n",
       "       [ 153.,   29., 4566.],\n",
       "       [  14.,   31.,  590.],\n",
       "       [  28.,   31., 1205.],\n",
       "       [  41.,   31., 1915.],\n",
       "       [  55.,   31., 2140.],\n",
       "       [  69.,   31., 2710.],\n",
       "       [  83.,   31., 3020.],\n",
       "       [  97.,   31., 3030.],\n",
       "       [ 111.,   31., 3040.],\n",
       "       [ 125.,   31., 3180.],\n",
       "       [ 139.,   31., 3257.],\n",
       "       [ 153.,   31., 3214.]])"
      ]
     },
     "execution_count": 324,
     "metadata": {},
     "output_type": "execute_result"
    }
   ],
   "source": [
    "# cateterismo = np.genfromtxt('artificial1d.csv', delimiter=',')\n",
    "peixe_dataset = np.genfromtxt('peixe.txt', delimiter=',')\n",
    "peixe_dataset"
   ]
  },
  {
   "cell_type": "code",
   "execution_count": 325,
   "id": "f2b12a79",
   "metadata": {},
   "outputs": [
    {
     "name": "stdout",
     "output_type": "stream",
     "text": [
      "      x     y\n",
      "0  1.20  0.53\n",
      "1  1.32  0.56\n",
      "2  1.38  0.54\n",
      "3  1.39  0.55\n",
      "4  1.60  0.60\n",
      "5  1.55  0.57\n",
      "_y = w0 + w1*X\n",
      "0    0.220\n",
      "1    0.232\n",
      "2    0.238\n",
      "3    0.239\n",
      "4    0.260\n",
      "5    0.255\n",
      "Name: x, dtype: float64\n",
      "e_i\n",
      "0    0.310\n",
      "1    0.328\n",
      "2    0.302\n",
      "3    0.311\n",
      "4    0.340\n",
      "5    0.315\n",
      "dtype: float64\n",
      "e_2\n",
      "0    0.096100\n",
      "1    0.107584\n",
      "2    0.091204\n",
      "3    0.096721\n",
      "4    0.115600\n",
      "5    0.099225\n",
      "dtype: float64\n",
      "somatório\n",
      "0.606434\n",
      "dividido por 1/2N\n",
      "0.10107233333333333\n"
     ]
    }
   ],
   "source": [
    "cateterismo = pd.DataFrame([[1.20, .53], [1.32, .56], [1.38, .54], [1.39, .55],[1.60, .6], [1.55, .57]], columns=['x','y'])\n",
    "print(cateterismo)\n",
    "X = cateterismo['x']\n",
    "Y = cateterismo['y']\n",
    "\n",
    "w0 = 0.1 \n",
    "w1 = 0.1\n",
    "\n",
    "_y = w0 + w1*X\n",
    "print('_y = w0 + w1*X')\n",
    "print(_y)\n",
    "\n",
    "e_i = (Y - _y)\n",
    "print('e_i')\n",
    "print(e_i)\n",
    "\n",
    "\n",
    "e_2 = (Y - _y)**2\n",
    "print('e_2')\n",
    "print(e_2)\n",
    "\n",
    "\n",
    "print('somatório')\n",
    "print(np.sum(e_2))\n",
    "\n",
    "print('dividido por 1/2N')\n",
    "print(np.sum(e_2)/X.shape[0])\n",
    "\n"
   ]
  },
  {
   "cell_type": "code",
   "execution_count": 329,
   "id": "72b61efb",
   "metadata": {
    "scrolled": true
   },
   "outputs": [
    {
     "name": "stdout",
     "output_type": "stream",
     "text": [
      "        t         c\n",
      "0       1  0.312250\n",
      "1       2  0.310387\n",
      "2       3  0.308536\n",
      "3       4  0.306695\n",
      "4       5  0.304865\n",
      "..    ...       ...\n",
      "995   996  0.001169\n",
      "996   997  0.001164\n",
      "997   998  0.001159\n",
      "998   999  0.001154\n",
      "999  1000  0.001150\n",
      "\n",
      "[1000 rows x 2 columns]\n"
     ]
    }
   ],
   "source": [
    "#Gradiente Descendete\n",
    "t = 0\n",
    "epocas = 1000\n",
    "alfa = 0.001\n",
    "\n",
    "w0 = 0\n",
    "w1 = 0\n",
    "\n",
    "\n",
    "dados = []\n",
    "while t < epocas:\n",
    "    t = t + 1\n",
    "    _y_ = _y_chapeu(w0, w1, X)\n",
    "    _erro = erro(Y, _y_)\n",
    "    \n",
    "    w0 = w0 + (alfa * np.mean(_erro))\n",
    "    w1 = w1 + (alfa * np.mean(_erro*X))\n",
    "\n",
    "    e_2 = _erro**2\n",
    "\n",
    "    custo = np.sum(e_2)/X.shape[0]\n",
    "    \n",
    "    dados.append([t, custo])\n",
    "w0w1 = pd.DataFrame(data=dados, columns=['t','c'])\n",
    "print(w0w1)    "
   ]
  },
  {
   "cell_type": "code",
   "execution_count": 330,
   "id": "1715bafe",
   "metadata": {},
   "outputs": [
    {
     "data": {
      "image/png": "[encoded data removed]",
      "text/plain": [
       "<Figure size 640x480 with 1 Axes>"
      ]
     },
     "metadata": {},
     "output_type": "display_data"
    },
    {
     "data": {
      "text/plain": [
       "<ggplot: (158756192419)>"
      ]
     },
     "execution_count": 330,
     "metadata": {},
     "output_type": "execute_result"
    }
   ],
   "source": [
    "(ggplot(w0w1, aes('t','c'))\n",
    " + geom_point()\n",
    " + theme_light()\n",
    "#  + geom_abline(intercept=np.sum(e_2)/X.shape[0] , slope=np.sum(e_2)/X.shape[0], color='red')\n",
    ")"
   ]
  },
  {
   "cell_type": "code",
   "execution_count": 328,
   "id": "a7081079",
   "metadata": {},
   "outputs": [
    {
     "data": {
      "image/png": "[encoded data removed]",
      "text/plain": [
       "<Figure size 640x480 with 1 Axes>"
      ]
     },
     "metadata": {},
     "output_type": "display_data"
    },
    {
     "data": {
      "text/plain": [
       "<ggplot: (158756203959)>"
      ]
     },
     "execution_count": 328,
     "metadata": {},
     "output_type": "execute_result"
    }
   ],
   "source": [
    "(ggplot(cateterismo, aes('x','y'))\n",
    " + geom_point()\n",
    " + theme_light()\n",
    " + geom_abline(intercept=3.5 , slope=6.45, color='red')\n",
    ")"
   ]
  }
 ],
 "metadata": {
  "kernelspec": {
   "display_name": "Python 3 (ipykernel)",
   "language": "python",
   "name": "python3"
  },
  "language_info": {
   "codemirror_mode": {
    "name": "ipython",
    "version": 3
   },
   "file_extension": ".py",
   "mimetype": "text/x-python",
   "name": "python",
   "nbconvert_exporter": "python",
   "pygments_lexer": "ipython3",
   "version": "3.10.4"
  }
 },
 "nbformat": 4,
 "nbformat_minor": 5
}
